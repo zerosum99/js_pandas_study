{
 "cells": [
  {
   "cell_type": "code",
   "execution_count": 7,
   "id": "8a87e1e6",
   "metadata": {},
   "outputs": [
    {
     "data": {
      "text/plain": [
       "'3.9.16'"
      ]
     },
     "execution_count": 7,
     "metadata": {},
     "output_type": "execute_result"
    }
   ],
   "source": [
    "import platform\n",
    "\n",
    "platform.python_version()"
   ]
  },
  {
   "cell_type": "code",
   "execution_count": 4,
   "id": "08ac5ffe",
   "metadata": {},
   "outputs": [],
   "source": [
    "import numpy as np"
   ]
  },
  {
   "cell_type": "code",
   "execution_count": 6,
   "id": "3a8cb56f",
   "metadata": {},
   "outputs": [
    {
     "data": {
      "text/plain": [
       "'1.24.3'"
      ]
     },
     "execution_count": 6,
     "metadata": {},
     "output_type": "execute_result"
    }
   ],
   "source": [
    "np.__version__"
   ]
  },
  {
   "cell_type": "code",
   "execution_count": 3,
   "id": "80872e80",
   "metadata": {},
   "outputs": [],
   "source": [
    "import pandas as pd"
   ]
  },
  {
   "cell_type": "code",
   "execution_count": 5,
   "id": "2132966c",
   "metadata": {},
   "outputs": [
    {
     "data": {
      "text/plain": [
       "'2.0.1'"
      ]
     },
     "execution_count": 5,
     "metadata": {},
     "output_type": "execute_result"
    }
   ],
   "source": [
    "pd.__version__"
   ]
  },
  {
   "cell_type": "code",
   "execution_count": 1,
   "id": "fcfc7237",
   "metadata": {},
   "outputs": [],
   "source": [
    "import polars as pl"
   ]
  },
  {
   "cell_type": "code",
   "execution_count": 2,
   "id": "8842e236",
   "metadata": {},
   "outputs": [
    {
     "data": {
      "text/plain": [
       "'0.19.3'"
      ]
     },
     "execution_count": 2,
     "metadata": {},
     "output_type": "execute_result"
    }
   ],
   "source": [
    "pl.__version__"
   ]
  },
  {
   "cell_type": "code",
   "execution_count": 18,
   "id": "788e77e5",
   "metadata": {},
   "outputs": [],
   "source": [
    "import pyarrow"
   ]
  },
  {
   "cell_type": "code",
   "execution_count": null,
   "id": "e1424522",
   "metadata": {},
   "outputs": [],
   "source": []
  },
  {
   "cell_type": "code",
   "execution_count": 8,
   "id": "fb5d350b",
   "metadata": {},
   "outputs": [],
   "source": [
    "num_rows = 5000\n",
    "rng = np.random.default_rng(seed=7)"
   ]
  },
  {
   "cell_type": "code",
   "execution_count": 9,
   "id": "8814340e",
   "metadata": {},
   "outputs": [],
   "source": [
    "buildings_data = {\n",
    "      \"sqft\": rng.exponential(scale=1000, size=num_rows),\n",
    "      \"year\": rng.integers(low=1995, high=2023, size=num_rows),\n",
    "      \"building_type\": rng.choice([\"A\", \"B\", \"C\"], size=num_rows),\n",
    "}"
   ]
  },
  {
   "cell_type": "code",
   "execution_count": 10,
   "id": "c260da53",
   "metadata": {},
   "outputs": [],
   "source": [
    "buildings = pl.DataFrame(buildings_data)"
   ]
  },
  {
   "cell_type": "code",
   "execution_count": 11,
   "id": "0be4305c",
   "metadata": {},
   "outputs": [
    {
     "data": {
      "text/html": [
       "<div><style>\n",
       ".dataframe > thead > tr > th,\n",
       ".dataframe > tbody > tr > td {\n",
       "  text-align: right;\n",
       "  white-space: pre-wrap;\n",
       "}\n",
       "</style>\n",
       "<small>shape: (5_000, 3)</small><table border=\"1\" class=\"dataframe\"><thead><tr><th>sqft</th><th>year</th><th>building_type</th></tr><tr><td>f64</td><td>i64</td><td>str</td></tr></thead><tbody><tr><td>707.529256</td><td>1996</td><td>&quot;C&quot;</td></tr><tr><td>1025.203348</td><td>2020</td><td>&quot;C&quot;</td></tr><tr><td>568.548657</td><td>2012</td><td>&quot;A&quot;</td></tr><tr><td>895.109864</td><td>2000</td><td>&quot;A&quot;</td></tr><tr><td>206.532754</td><td>2011</td><td>&quot;A&quot;</td></tr><tr><td>3383.637351</td><td>2018</td><td>&quot;B&quot;</td></tr><tr><td>9.753627</td><td>2007</td><td>&quot;A&quot;</td></tr><tr><td>2809.215763</td><td>2004</td><td>&quot;B&quot;</td></tr><tr><td>575.332756</td><td>2021</td><td>&quot;A&quot;</td></tr><tr><td>300.534013</td><td>2003</td><td>&quot;A&quot;</td></tr><tr><td>541.135894</td><td>2017</td><td>&quot;A&quot;</td></tr><tr><td>312.145612</td><td>2014</td><td>&quot;B&quot;</td></tr><tr><td>&hellip;</td><td>&hellip;</td><td>&hellip;</td></tr><tr><td>1231.193702</td><td>2003</td><td>&quot;C&quot;</td></tr><tr><td>130.880251</td><td>2011</td><td>&quot;A&quot;</td></tr><tr><td>197.842124</td><td>2003</td><td>&quot;A&quot;</td></tr><tr><td>1230.728039</td><td>2012</td><td>&quot;C&quot;</td></tr><tr><td>90.221593</td><td>2006</td><td>&quot;B&quot;</td></tr><tr><td>932.780032</td><td>2002</td><td>&quot;A&quot;</td></tr><tr><td>18.457988</td><td>2015</td><td>&quot;B&quot;</td></tr><tr><td>710.435755</td><td>2003</td><td>&quot;C&quot;</td></tr><tr><td>408.872783</td><td>2009</td><td>&quot;C&quot;</td></tr><tr><td>57.562059</td><td>2019</td><td>&quot;C&quot;</td></tr><tr><td>3728.088949</td><td>2020</td><td>&quot;C&quot;</td></tr><tr><td>686.678345</td><td>2011</td><td>&quot;C&quot;</td></tr></tbody></table></div>"
      ],
      "text/plain": [
       "shape: (5_000, 3)\n",
       "┌─────────────┬──────┬───────────────┐\n",
       "│ sqft        ┆ year ┆ building_type │\n",
       "│ ---         ┆ ---  ┆ ---           │\n",
       "│ f64         ┆ i64  ┆ str           │\n",
       "╞═════════════╪══════╪═══════════════╡\n",
       "│ 707.529256  ┆ 1996 ┆ C             │\n",
       "│ 1025.203348 ┆ 2020 ┆ C             │\n",
       "│ 568.548657  ┆ 2012 ┆ A             │\n",
       "│ 895.109864  ┆ 2000 ┆ A             │\n",
       "│ …           ┆ …    ┆ …             │\n",
       "│ 408.872783  ┆ 2009 ┆ C             │\n",
       "│ 57.562059   ┆ 2019 ┆ C             │\n",
       "│ 3728.088949 ┆ 2020 ┆ C             │\n",
       "│ 686.678345  ┆ 2011 ┆ C             │\n",
       "└─────────────┴──────┴───────────────┘"
      ]
     },
     "execution_count": 11,
     "metadata": {},
     "output_type": "execute_result"
    }
   ],
   "source": [
    "buildings"
   ]
  },
  {
   "cell_type": "code",
   "execution_count": 12,
   "id": "3733b81a",
   "metadata": {},
   "outputs": [
    {
     "data": {
      "text/html": [
       "<div><style>\n",
       ".dataframe > thead > tr > th,\n",
       ".dataframe > tbody > tr > td {\n",
       "  text-align: right;\n",
       "  white-space: pre-wrap;\n",
       "}\n",
       "</style>\n",
       "<small>shape: (5, 3)</small><table border=\"1\" class=\"dataframe\"><thead><tr><th>sqft</th><th>year</th><th>building_type</th></tr><tr><td>f64</td><td>i64</td><td>str</td></tr></thead><tbody><tr><td>707.529256</td><td>1996</td><td>&quot;C&quot;</td></tr><tr><td>1025.203348</td><td>2020</td><td>&quot;C&quot;</td></tr><tr><td>568.548657</td><td>2012</td><td>&quot;A&quot;</td></tr><tr><td>895.109864</td><td>2000</td><td>&quot;A&quot;</td></tr><tr><td>206.532754</td><td>2011</td><td>&quot;A&quot;</td></tr></tbody></table></div>"
      ],
      "text/plain": [
       "shape: (5, 3)\n",
       "┌─────────────┬──────┬───────────────┐\n",
       "│ sqft        ┆ year ┆ building_type │\n",
       "│ ---         ┆ ---  ┆ ---           │\n",
       "│ f64         ┆ i64  ┆ str           │\n",
       "╞═════════════╪══════╪═══════════════╡\n",
       "│ 707.529256  ┆ 1996 ┆ C             │\n",
       "│ 1025.203348 ┆ 2020 ┆ C             │\n",
       "│ 568.548657  ┆ 2012 ┆ A             │\n",
       "│ 895.109864  ┆ 2000 ┆ A             │\n",
       "│ 206.532754  ┆ 2011 ┆ A             │\n",
       "└─────────────┴──────┴───────────────┘"
      ]
     },
     "execution_count": 12,
     "metadata": {},
     "output_type": "execute_result"
    }
   ],
   "source": [
    "buildings.head()"
   ]
  },
  {
   "cell_type": "code",
   "execution_count": 13,
   "id": "9535fb90",
   "metadata": {},
   "outputs": [
    {
     "data": {
      "text/plain": [
       "(5000, 3)"
      ]
     },
     "execution_count": 13,
     "metadata": {},
     "output_type": "execute_result"
    }
   ],
   "source": [
    "buildings.shape"
   ]
  },
  {
   "cell_type": "code",
   "execution_count": 14,
   "id": "23a25132",
   "metadata": {},
   "outputs": [
    {
     "data": {
      "text/plain": [
       "polars.dataframe.frame.DataFrame"
      ]
     },
     "execution_count": 14,
     "metadata": {},
     "output_type": "execute_result"
    }
   ],
   "source": [
    "type(buildings)"
   ]
  },
  {
   "cell_type": "code",
   "execution_count": 20,
   "id": "955ba1b5",
   "metadata": {},
   "outputs": [
    {
     "name": "stdout",
     "output_type": "stream",
     "text": [
      "Help on method to_pandas in module polars.dataframe.frame:\n",
      "\n",
      "to_pandas(*args: 'Any', use_pyarrow_extension_array: 'bool' = False, **kwargs: 'Any') -> 'pd.DataFrame' method of polars.dataframe.frame.DataFrame instance\n",
      "    Cast to a pandas DataFrame.\n",
      "    \n",
      "    This requires that :mod:`pandas` and :mod:`pyarrow` are installed.\n",
      "    This operation clones data, unless `use_pyarrow_extension_array=True`.\n",
      "    \n",
      "    Parameters\n",
      "    ----------\n",
      "    use_pyarrow_extension_array\n",
      "        Use PyArrow backed-extension arrays instead of numpy arrays for each column\n",
      "        of the pandas DataFrame; this allows zero copy operations and preservation\n",
      "        of null values. Subsequent operations on the resulting pandas DataFrame may\n",
      "        trigger conversion to NumPy arrays if that operation is not supported by\n",
      "        pyarrow compute functions.\n",
      "    **kwargs\n",
      "        Arguments will be sent to :meth:`pyarrow.Table.to_pandas`.\n",
      "    \n",
      "    Returns\n",
      "    -------\n",
      "    :class:`pandas.DataFrame`\n",
      "    \n",
      "    Examples\n",
      "    --------\n",
      "    >>> import pandas\n",
      "    >>> df1 = pl.DataFrame(\n",
      "    ...     {\n",
      "    ...         \"foo\": [1, 2, 3],\n",
      "    ...         \"bar\": [6, 7, 8],\n",
      "    ...         \"ham\": [\"a\", \"b\", \"c\"],\n",
      "    ...     }\n",
      "    ... )\n",
      "    >>> pandas_df1 = df1.to_pandas()\n",
      "    >>> type(pandas_df1)\n",
      "    <class 'pandas.core.frame.DataFrame'>\n",
      "    >>> pandas_df1.dtypes\n",
      "    foo     int64\n",
      "    bar     int64\n",
      "    ham    object\n",
      "    dtype: object\n",
      "    >>> df2 = pl.DataFrame(\n",
      "    ...     {\n",
      "    ...         \"foo\": [1, 2, None],\n",
      "    ...         \"bar\": [6, None, 8],\n",
      "    ...         \"ham\": [None, \"b\", \"c\"],\n",
      "    ...     }\n",
      "    ... )\n",
      "    >>> pandas_df2 = df2.to_pandas()\n",
      "    >>> pandas_df2\n",
      "       foo  bar   ham\n",
      "    0  1.0  6.0  None\n",
      "    1  2.0  NaN     b\n",
      "    2  NaN  8.0     c\n",
      "    >>> pandas_df2.dtypes\n",
      "    foo    float64\n",
      "    bar    float64\n",
      "    ham     object\n",
      "    dtype: object\n",
      "    >>> pandas_df2_pa = df2.to_pandas(\n",
      "    ...     use_pyarrow_extension_array=True\n",
      "    ... )  # doctest: +SKIP\n",
      "    >>> pandas_df2_pa  # doctest: +SKIP\n",
      "        foo   bar   ham\n",
      "    0     1     6  <NA>\n",
      "    1     2  <NA>     b\n",
      "    2  <NA>     8     c\n",
      "    >>> pandas_df2_pa.dtypes  # doctest: +SKIP\n",
      "    foo           int64[pyarrow]\n",
      "    bar           int64[pyarrow]\n",
      "    ham    large_string[pyarrow]\n",
      "    dtype: object\n",
      "\n"
     ]
    }
   ],
   "source": [
    "help(buildings.to_pandas)"
   ]
  },
  {
   "cell_type": "code",
   "execution_count": 19,
   "id": "ffecd1e7",
   "metadata": {},
   "outputs": [
    {
     "ename": "ModuleNotFoundError",
     "evalue": "pa.Table requires 'pyarrow' module to be installed",
     "output_type": "error",
     "traceback": [
      "\u001b[0;31m---------------------------------------------------------------------------\u001b[0m",
      "\u001b[0;31mModuleNotFoundError\u001b[0m                       Traceback (most recent call last)",
      "Cell \u001b[0;32mIn[19], line 1\u001b[0m\n\u001b[0;32m----> 1\u001b[0m \u001b[43mbuildings\u001b[49m\u001b[38;5;241;43m.\u001b[39;49m\u001b[43mto_pandas\u001b[49m\u001b[43m(\u001b[49m\u001b[43m)\u001b[49m\n",
      "File \u001b[0;32m~/opt/anaconda3/envs/pandasai/lib/python3.9/site-packages/polars/dataframe/frame.py:2208\u001b[0m, in \u001b[0;36mDataFrame.to_pandas\u001b[0;34m(self, use_pyarrow_extension_array, *args, **kwargs)\u001b[0m\n\u001b[1;32m   2205\u001b[0m         \u001b[38;5;28;01mraise\u001b[39;00m \u001b[38;5;167;01mModuleNotFoundError\u001b[39;00m(msg)\n\u001b[1;32m   2207\u001b[0m record_batches \u001b[38;5;241m=\u001b[39m \u001b[38;5;28mself\u001b[39m\u001b[38;5;241m.\u001b[39m_df\u001b[38;5;241m.\u001b[39mto_pandas()\n\u001b[0;32m-> 2208\u001b[0m tbl \u001b[38;5;241m=\u001b[39m \u001b[43mpa\u001b[49m\u001b[38;5;241;43m.\u001b[39;49m\u001b[43mTable\u001b[49m\u001b[38;5;241m.\u001b[39mfrom_batches(record_batches)\n\u001b[1;32m   2209\u001b[0m \u001b[38;5;28;01mif\u001b[39;00m use_pyarrow_extension_array:\n\u001b[1;32m   2210\u001b[0m     \u001b[38;5;28;01mreturn\u001b[39;00m tbl\u001b[38;5;241m.\u001b[39mto_pandas(\n\u001b[1;32m   2211\u001b[0m         self_destruct\u001b[38;5;241m=\u001b[39m\u001b[38;5;28;01mTrue\u001b[39;00m,\n\u001b[1;32m   2212\u001b[0m         split_blocks\u001b[38;5;241m=\u001b[39m\u001b[38;5;28;01mTrue\u001b[39;00m,\n\u001b[1;32m   2213\u001b[0m         types_mapper\u001b[38;5;241m=\u001b[39m\u001b[38;5;28;01mlambda\u001b[39;00m pa_dtype: pd\u001b[38;5;241m.\u001b[39mArrowDtype(pa_dtype),\n\u001b[1;32m   2214\u001b[0m         \u001b[38;5;241m*\u001b[39m\u001b[38;5;241m*\u001b[39mkwargs,\n\u001b[1;32m   2215\u001b[0m     )\n",
      "File \u001b[0;32m~/opt/anaconda3/envs/pandasai/lib/python3.9/site-packages/polars/dependencies.py:98\u001b[0m, in \u001b[0;36m_LazyModule.__getattr__\u001b[0;34m(self, attr)\u001b[0m\n\u001b[1;32m     95\u001b[0m \u001b[38;5;28;01melse\u001b[39;00m:\n\u001b[1;32m     96\u001b[0m     \u001b[38;5;66;03m# all other attribute access raises a helpful exception\u001b[39;00m\n\u001b[1;32m     97\u001b[0m     pfx \u001b[38;5;241m=\u001b[39m \u001b[38;5;28mself\u001b[39m\u001b[38;5;241m.\u001b[39m_mod_pfx\u001b[38;5;241m.\u001b[39mget(\u001b[38;5;28mself\u001b[39m\u001b[38;5;241m.\u001b[39m_module_name, \u001b[38;5;124m\"\u001b[39m\u001b[38;5;124m\"\u001b[39m)\n\u001b[0;32m---> 98\u001b[0m     \u001b[38;5;28;01mraise\u001b[39;00m \u001b[38;5;167;01mModuleNotFoundError\u001b[39;00m(\n\u001b[1;32m     99\u001b[0m         \u001b[38;5;124mf\u001b[39m\u001b[38;5;124m\"\u001b[39m\u001b[38;5;132;01m{\u001b[39;00mpfx\u001b[38;5;132;01m}\u001b[39;00m\u001b[38;5;132;01m{\u001b[39;00mattr\u001b[38;5;132;01m}\u001b[39;00m\u001b[38;5;124m requires \u001b[39m\u001b[38;5;132;01m{\u001b[39;00m\u001b[38;5;28mself\u001b[39m\u001b[38;5;241m.\u001b[39m_module_name\u001b[38;5;132;01m!r}\u001b[39;00m\u001b[38;5;124m module to be installed\u001b[39m\u001b[38;5;124m\"\u001b[39m\n\u001b[1;32m    100\u001b[0m     ) \u001b[38;5;28;01mfrom\u001b[39;00m \u001b[38;5;28;01mNone\u001b[39;00m\n",
      "\u001b[0;31mModuleNotFoundError\u001b[0m: pa.Table requires 'pyarrow' module to be installed"
     ]
    }
   ],
   "source": [
    "buildings.to_pandas()"
   ]
  },
  {
   "cell_type": "code",
   "execution_count": 17,
   "id": "ef1ea980",
   "metadata": {},
   "outputs": [
    {
     "name": "stdout",
     "output_type": "stream",
     "text": [
      "Collecting pyarrow\n",
      "  Using cached pyarrow-13.0.0-cp39-cp39-macosx_11_0_arm64.whl (23.7 MB)\n",
      "Requirement already satisfied: numpy>=1.16.6 in /Users/a06411/opt/anaconda3/envs/pandasai/lib/python3.9/site-packages (from pyarrow) (1.24.3)\n",
      "Installing collected packages: pyarrow\n",
      "Successfully installed pyarrow-13.0.0\n",
      "Note: you may need to restart the kernel to use updated packages.\n"
     ]
    }
   ],
   "source": [
    "pip install pyarrow"
   ]
  },
  {
   "cell_type": "code",
   "execution_count": null,
   "id": "c89b0993",
   "metadata": {},
   "outputs": [],
   "source": []
  }
 ],
 "metadata": {
  "kernelspec": {
   "display_name": "Python 3 (ipykernel)",
   "language": "python",
   "name": "python3"
  },
  "language_info": {
   "codemirror_mode": {
    "name": "ipython",
    "version": 3
   },
   "file_extension": ".py",
   "mimetype": "text/x-python",
   "name": "python",
   "nbconvert_exporter": "python",
   "pygments_lexer": "ipython3",
   "version": "3.9.16"
  }
 },
 "nbformat": 4,
 "nbformat_minor": 5
}
