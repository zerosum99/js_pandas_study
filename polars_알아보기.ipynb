{
 "cells": [
  {
   "cell_type": "code",
   "execution_count": 1,
   "id": "8a87e1e6",
   "metadata": {},
   "outputs": [
    {
     "data": {
      "text/plain": [
       "'3.9.16'"
      ]
     },
     "execution_count": 1,
     "metadata": {},
     "output_type": "execute_result"
    }
   ],
   "source": [
    "import platform\n",
    "\n",
    "platform.python_version()"
   ]
  },
  {
   "cell_type": "code",
   "execution_count": 2,
   "id": "08ac5ffe",
   "metadata": {},
   "outputs": [],
   "source": [
    "import numpy as np"
   ]
  },
  {
   "cell_type": "code",
   "execution_count": 3,
   "id": "3a8cb56f",
   "metadata": {},
   "outputs": [
    {
     "data": {
      "text/plain": [
       "'1.24.3'"
      ]
     },
     "execution_count": 3,
     "metadata": {},
     "output_type": "execute_result"
    }
   ],
   "source": [
    "np.__version__"
   ]
  },
  {
   "cell_type": "code",
   "execution_count": 4,
   "id": "80872e80",
   "metadata": {},
   "outputs": [],
   "source": [
    "import pandas as pd"
   ]
  },
  {
   "cell_type": "code",
   "execution_count": 5,
   "id": "2132966c",
   "metadata": {},
   "outputs": [
    {
     "data": {
      "text/plain": [
       "'2.0.1'"
      ]
     },
     "execution_count": 5,
     "metadata": {},
     "output_type": "execute_result"
    }
   ],
   "source": [
    "pd.__version__"
   ]
  },
  {
   "cell_type": "code",
   "execution_count": 6,
   "id": "fcfc7237",
   "metadata": {},
   "outputs": [],
   "source": [
    "import polars as pl"
   ]
  },
  {
   "cell_type": "code",
   "execution_count": 7,
   "id": "8842e236",
   "metadata": {},
   "outputs": [
    {
     "data": {
      "text/plain": [
       "'0.19.3'"
      ]
     },
     "execution_count": 7,
     "metadata": {},
     "output_type": "execute_result"
    }
   ],
   "source": [
    "pl.__version__"
   ]
  },
  {
   "cell_type": "code",
   "execution_count": 8,
   "id": "788e77e5",
   "metadata": {},
   "outputs": [],
   "source": [
    "import pyarrow"
   ]
  },
  {
   "cell_type": "code",
   "execution_count": 21,
   "id": "e1424522",
   "metadata": {},
   "outputs": [],
   "source": [
    "import time"
   ]
  },
  {
   "cell_type": "code",
   "execution_count": 9,
   "id": "fb5d350b",
   "metadata": {},
   "outputs": [],
   "source": [
    "num_rows = 5000\n",
    "rng = np.random.default_rng(seed=7)"
   ]
  },
  {
   "cell_type": "code",
   "execution_count": 10,
   "id": "8814340e",
   "metadata": {},
   "outputs": [],
   "source": [
    "buildings_data = {\n",
    "      \"sqft\": rng.exponential(scale=1000, size=num_rows),\n",
    "      \"year\": rng.integers(low=1995, high=2023, size=num_rows),\n",
    "      \"building_type\": rng.choice([\"A\", \"B\", \"C\"], size=num_rows),\n",
    "}"
   ]
  },
  {
   "cell_type": "code",
   "execution_count": 11,
   "id": "c260da53",
   "metadata": {},
   "outputs": [],
   "source": [
    "buildings = pl.DataFrame(buildings_data)"
   ]
  },
  {
   "cell_type": "code",
   "execution_count": 12,
   "id": "0be4305c",
   "metadata": {},
   "outputs": [
    {
     "data": {
      "text/html": [
       "<div><style>\n",
       ".dataframe > thead > tr > th,\n",
       ".dataframe > tbody > tr > td {\n",
       "  text-align: right;\n",
       "  white-space: pre-wrap;\n",
       "}\n",
       "</style>\n",
       "<small>shape: (5_000, 3)</small><table border=\"1\" class=\"dataframe\"><thead><tr><th>sqft</th><th>year</th><th>building_type</th></tr><tr><td>f64</td><td>i64</td><td>str</td></tr></thead><tbody><tr><td>707.529256</td><td>1996</td><td>&quot;C&quot;</td></tr><tr><td>1025.203348</td><td>2020</td><td>&quot;C&quot;</td></tr><tr><td>568.548657</td><td>2012</td><td>&quot;A&quot;</td></tr><tr><td>895.109864</td><td>2000</td><td>&quot;A&quot;</td></tr><tr><td>206.532754</td><td>2011</td><td>&quot;A&quot;</td></tr><tr><td>3383.637351</td><td>2018</td><td>&quot;B&quot;</td></tr><tr><td>9.753627</td><td>2007</td><td>&quot;A&quot;</td></tr><tr><td>2809.215763</td><td>2004</td><td>&quot;B&quot;</td></tr><tr><td>575.332756</td><td>2021</td><td>&quot;A&quot;</td></tr><tr><td>300.534013</td><td>2003</td><td>&quot;A&quot;</td></tr><tr><td>541.135894</td><td>2017</td><td>&quot;A&quot;</td></tr><tr><td>312.145612</td><td>2014</td><td>&quot;B&quot;</td></tr><tr><td>&hellip;</td><td>&hellip;</td><td>&hellip;</td></tr><tr><td>1231.193702</td><td>2003</td><td>&quot;C&quot;</td></tr><tr><td>130.880251</td><td>2011</td><td>&quot;A&quot;</td></tr><tr><td>197.842124</td><td>2003</td><td>&quot;A&quot;</td></tr><tr><td>1230.728039</td><td>2012</td><td>&quot;C&quot;</td></tr><tr><td>90.221593</td><td>2006</td><td>&quot;B&quot;</td></tr><tr><td>932.780032</td><td>2002</td><td>&quot;A&quot;</td></tr><tr><td>18.457988</td><td>2015</td><td>&quot;B&quot;</td></tr><tr><td>710.435755</td><td>2003</td><td>&quot;C&quot;</td></tr><tr><td>408.872783</td><td>2009</td><td>&quot;C&quot;</td></tr><tr><td>57.562059</td><td>2019</td><td>&quot;C&quot;</td></tr><tr><td>3728.088949</td><td>2020</td><td>&quot;C&quot;</td></tr><tr><td>686.678345</td><td>2011</td><td>&quot;C&quot;</td></tr></tbody></table></div>"
      ],
      "text/plain": [
       "shape: (5_000, 3)\n",
       "┌─────────────┬──────┬───────────────┐\n",
       "│ sqft        ┆ year ┆ building_type │\n",
       "│ ---         ┆ ---  ┆ ---           │\n",
       "│ f64         ┆ i64  ┆ str           │\n",
       "╞═════════════╪══════╪═══════════════╡\n",
       "│ 707.529256  ┆ 1996 ┆ C             │\n",
       "│ 1025.203348 ┆ 2020 ┆ C             │\n",
       "│ 568.548657  ┆ 2012 ┆ A             │\n",
       "│ 895.109864  ┆ 2000 ┆ A             │\n",
       "│ …           ┆ …    ┆ …             │\n",
       "│ 408.872783  ┆ 2009 ┆ C             │\n",
       "│ 57.562059   ┆ 2019 ┆ C             │\n",
       "│ 3728.088949 ┆ 2020 ┆ C             │\n",
       "│ 686.678345  ┆ 2011 ┆ C             │\n",
       "└─────────────┴──────┴───────────────┘"
      ]
     },
     "execution_count": 12,
     "metadata": {},
     "output_type": "execute_result"
    }
   ],
   "source": [
    "buildings"
   ]
  },
  {
   "cell_type": "code",
   "execution_count": 13,
   "id": "3733b81a",
   "metadata": {},
   "outputs": [
    {
     "data": {
      "text/html": [
       "<div><style>\n",
       ".dataframe > thead > tr > th,\n",
       ".dataframe > tbody > tr > td {\n",
       "  text-align: right;\n",
       "  white-space: pre-wrap;\n",
       "}\n",
       "</style>\n",
       "<small>shape: (5, 3)</small><table border=\"1\" class=\"dataframe\"><thead><tr><th>sqft</th><th>year</th><th>building_type</th></tr><tr><td>f64</td><td>i64</td><td>str</td></tr></thead><tbody><tr><td>707.529256</td><td>1996</td><td>&quot;C&quot;</td></tr><tr><td>1025.203348</td><td>2020</td><td>&quot;C&quot;</td></tr><tr><td>568.548657</td><td>2012</td><td>&quot;A&quot;</td></tr><tr><td>895.109864</td><td>2000</td><td>&quot;A&quot;</td></tr><tr><td>206.532754</td><td>2011</td><td>&quot;A&quot;</td></tr></tbody></table></div>"
      ],
      "text/plain": [
       "shape: (5, 3)\n",
       "┌─────────────┬──────┬───────────────┐\n",
       "│ sqft        ┆ year ┆ building_type │\n",
       "│ ---         ┆ ---  ┆ ---           │\n",
       "│ f64         ┆ i64  ┆ str           │\n",
       "╞═════════════╪══════╪═══════════════╡\n",
       "│ 707.529256  ┆ 1996 ┆ C             │\n",
       "│ 1025.203348 ┆ 2020 ┆ C             │\n",
       "│ 568.548657  ┆ 2012 ┆ A             │\n",
       "│ 895.109864  ┆ 2000 ┆ A             │\n",
       "│ 206.532754  ┆ 2011 ┆ A             │\n",
       "└─────────────┴──────┴───────────────┘"
      ]
     },
     "execution_count": 13,
     "metadata": {},
     "output_type": "execute_result"
    }
   ],
   "source": [
    "buildings.head()"
   ]
  },
  {
   "cell_type": "code",
   "execution_count": 14,
   "id": "9535fb90",
   "metadata": {},
   "outputs": [
    {
     "data": {
      "text/plain": [
       "(5000, 3)"
      ]
     },
     "execution_count": 14,
     "metadata": {},
     "output_type": "execute_result"
    }
   ],
   "source": [
    "buildings.shape"
   ]
  },
  {
   "cell_type": "code",
   "execution_count": 15,
   "id": "23a25132",
   "metadata": {},
   "outputs": [
    {
     "data": {
      "text/plain": [
       "polars.dataframe.frame.DataFrame"
      ]
     },
     "execution_count": 15,
     "metadata": {},
     "output_type": "execute_result"
    }
   ],
   "source": [
    "type(buildings)"
   ]
  },
  {
   "cell_type": "code",
   "execution_count": 16,
   "id": "955ba1b5",
   "metadata": {},
   "outputs": [
    {
     "name": "stdout",
     "output_type": "stream",
     "text": [
      "Help on method to_pandas in module polars.dataframe.frame:\n",
      "\n",
      "to_pandas(*args: 'Any', use_pyarrow_extension_array: 'bool' = False, **kwargs: 'Any') -> 'pd.DataFrame' method of polars.dataframe.frame.DataFrame instance\n",
      "    Cast to a pandas DataFrame.\n",
      "    \n",
      "    This requires that :mod:`pandas` and :mod:`pyarrow` are installed.\n",
      "    This operation clones data, unless `use_pyarrow_extension_array=True`.\n",
      "    \n",
      "    Parameters\n",
      "    ----------\n",
      "    use_pyarrow_extension_array\n",
      "        Use PyArrow backed-extension arrays instead of numpy arrays for each column\n",
      "        of the pandas DataFrame; this allows zero copy operations and preservation\n",
      "        of null values. Subsequent operations on the resulting pandas DataFrame may\n",
      "        trigger conversion to NumPy arrays if that operation is not supported by\n",
      "        pyarrow compute functions.\n",
      "    **kwargs\n",
      "        Arguments will be sent to :meth:`pyarrow.Table.to_pandas`.\n",
      "    \n",
      "    Returns\n",
      "    -------\n",
      "    :class:`pandas.DataFrame`\n",
      "    \n",
      "    Examples\n",
      "    --------\n",
      "    >>> import pandas\n",
      "    >>> df1 = pl.DataFrame(\n",
      "    ...     {\n",
      "    ...         \"foo\": [1, 2, 3],\n",
      "    ...         \"bar\": [6, 7, 8],\n",
      "    ...         \"ham\": [\"a\", \"b\", \"c\"],\n",
      "    ...     }\n",
      "    ... )\n",
      "    >>> pandas_df1 = df1.to_pandas()\n",
      "    >>> type(pandas_df1)\n",
      "    <class 'pandas.core.frame.DataFrame'>\n",
      "    >>> pandas_df1.dtypes\n",
      "    foo     int64\n",
      "    bar     int64\n",
      "    ham    object\n",
      "    dtype: object\n",
      "    >>> df2 = pl.DataFrame(\n",
      "    ...     {\n",
      "    ...         \"foo\": [1, 2, None],\n",
      "    ...         \"bar\": [6, None, 8],\n",
      "    ...         \"ham\": [None, \"b\", \"c\"],\n",
      "    ...     }\n",
      "    ... )\n",
      "    >>> pandas_df2 = df2.to_pandas()\n",
      "    >>> pandas_df2\n",
      "       foo  bar   ham\n",
      "    0  1.0  6.0  None\n",
      "    1  2.0  NaN     b\n",
      "    2  NaN  8.0     c\n",
      "    >>> pandas_df2.dtypes\n",
      "    foo    float64\n",
      "    bar    float64\n",
      "    ham     object\n",
      "    dtype: object\n",
      "    >>> pandas_df2_pa = df2.to_pandas(\n",
      "    ...     use_pyarrow_extension_array=True\n",
      "    ... )  # doctest: +SKIP\n",
      "    >>> pandas_df2_pa  # doctest: +SKIP\n",
      "        foo   bar   ham\n",
      "    0     1     6  <NA>\n",
      "    1     2  <NA>     b\n",
      "    2  <NA>     8     c\n",
      "    >>> pandas_df2_pa.dtypes  # doctest: +SKIP\n",
      "    foo           int64[pyarrow]\n",
      "    bar           int64[pyarrow]\n",
      "    ham    large_string[pyarrow]\n",
      "    dtype: object\n",
      "\n"
     ]
    }
   ],
   "source": [
    "help(buildings.to_pandas)"
   ]
  },
  {
   "cell_type": "code",
   "execution_count": 19,
   "id": "ffecd1e7",
   "metadata": {},
   "outputs": [],
   "source": [
    "df = buildings.to_pandas()"
   ]
  },
  {
   "cell_type": "code",
   "execution_count": 20,
   "id": "c89b0993",
   "metadata": {},
   "outputs": [
    {
     "data": {
      "text/plain": [
       "pandas.core.frame.DataFrame"
      ]
     },
     "execution_count": 20,
     "metadata": {},
     "output_type": "execute_result"
    }
   ],
   "source": [
    "type(df)"
   ]
  },
  {
   "cell_type": "code",
   "execution_count": null,
   "id": "9a6aa570",
   "metadata": {},
   "outputs": [],
   "source": []
  },
  {
   "cell_type": "code",
   "execution_count": null,
   "id": "c63b2884",
   "metadata": {},
   "outputs": [],
   "source": []
  },
  {
   "cell_type": "code",
   "execution_count": null,
   "id": "935d2e87",
   "metadata": {},
   "outputs": [],
   "source": []
  },
  {
   "cell_type": "code",
   "execution_count": 23,
   "id": "1ef0b78e",
   "metadata": {},
   "outputs": [],
   "source": [
    "train_pd=pd.read_parquet('./archive/train.parquet') #Pandas dataframe\n",
    "\n",
    "train_pl=pl.read_parquet('./archive/train.parquet') #Polars dataframe"
   ]
  },
  {
   "cell_type": "code",
   "execution_count": 35,
   "id": "7097a8a8",
   "metadata": {},
   "outputs": [
    {
     "data": {
      "text/plain": [
       "array([False, False, False, False, False, False, False,  True,  True,\n",
       "        True,  True,  True,  True,  True,  True,  True])"
      ]
     },
     "execution_count": 35,
     "metadata": {},
     "output_type": "execute_result"
    }
   ],
   "source": [
    "train_pd.columns.str.contains('num') "
   ]
  },
  {
   "cell_type": "code",
   "execution_count": 36,
   "id": "be91206d",
   "metadata": {},
   "outputs": [],
   "source": [
    "nums = train_pd.columns[train_pd.columns.str.contains('num')] "
   ]
  },
  {
   "cell_type": "code",
   "execution_count": 37,
   "id": "ec3484a1",
   "metadata": {},
   "outputs": [
    {
     "data": {
      "text/plain": [
       "Index(['num_7', 'num_8', 'num_9', 'num_10', 'num_11', 'num_12', 'num_13',\n",
       "       'num_14', 'num_15'],\n",
       "      dtype='object')"
      ]
     },
     "execution_count": 37,
     "metadata": {},
     "output_type": "execute_result"
    }
   ],
   "source": [
    "nums"
   ]
  },
  {
   "cell_type": "code",
   "execution_count": 38,
   "id": "b51f7d6f",
   "metadata": {},
   "outputs": [],
   "source": [
    "cats = train_pd.columns[train_pd.columns.str.contains('cat')] "
   ]
  },
  {
   "cell_type": "code",
   "execution_count": 39,
   "id": "90ef09b4",
   "metadata": {},
   "outputs": [
    {
     "data": {
      "text/plain": [
       "Index(['cat_1', 'cat_2', 'cat_3', 'cat_4', 'cat_5', 'cat_6'], dtype='object')"
      ]
     },
     "execution_count": 39,
     "metadata": {},
     "output_type": "execute_result"
    }
   ],
   "source": [
    "cats"
   ]
  },
  {
   "cell_type": "code",
   "execution_count": 40,
   "id": "0a777ccd",
   "metadata": {},
   "outputs": [
    {
     "data": {
      "text/html": [
       "<div>\n",
       "<style scoped>\n",
       "    .dataframe tbody tr th:only-of-type {\n",
       "        vertical-align: middle;\n",
       "    }\n",
       "\n",
       "    .dataframe tbody tr th {\n",
       "        vertical-align: top;\n",
       "    }\n",
       "\n",
       "    .dataframe thead th {\n",
       "        text-align: right;\n",
       "    }\n",
       "</style>\n",
       "<table border=\"1\" class=\"dataframe\">\n",
       "  <thead>\n",
       "    <tr style=\"text-align: right;\">\n",
       "      <th></th>\n",
       "      <th>num_7</th>\n",
       "      <th>num_8</th>\n",
       "      <th>num_9</th>\n",
       "      <th>num_10</th>\n",
       "      <th>num_11</th>\n",
       "      <th>num_12</th>\n",
       "      <th>num_13</th>\n",
       "      <th>num_14</th>\n",
       "      <th>num_15</th>\n",
       "    </tr>\n",
       "  </thead>\n",
       "  <tbody>\n",
       "    <tr>\n",
       "      <th>min</th>\n",
       "      <td>3.447814e-09</td>\n",
       "      <td>6.758090e-08</td>\n",
       "      <td>3.387718e-09</td>\n",
       "      <td>2.832512e-09</td>\n",
       "      <td>7.106527e-08</td>\n",
       "      <td>9.356119e-09</td>\n",
       "      <td>1.062366e-08</td>\n",
       "      <td>3.810326e-08</td>\n",
       "      <td>4.786359e-08</td>\n",
       "    </tr>\n",
       "    <tr>\n",
       "      <th>max</th>\n",
       "      <td>1.000000e+00</td>\n",
       "      <td>9.999999e-01</td>\n",
       "      <td>1.000000e+00</td>\n",
       "      <td>1.000000e+00</td>\n",
       "      <td>1.000000e+00</td>\n",
       "      <td>1.000000e+00</td>\n",
       "      <td>1.000000e+00</td>\n",
       "      <td>1.000000e+00</td>\n",
       "      <td>1.000000e+00</td>\n",
       "    </tr>\n",
       "    <tr>\n",
       "      <th>mean</th>\n",
       "      <td>4.999846e-01</td>\n",
       "      <td>4.999866e-01</td>\n",
       "      <td>5.000210e-01</td>\n",
       "      <td>5.001010e-01</td>\n",
       "      <td>4.999404e-01</td>\n",
       "      <td>5.000311e-01</td>\n",
       "      <td>5.000412e-01</td>\n",
       "      <td>4.999558e-01</td>\n",
       "      <td>5.000969e-01</td>\n",
       "    </tr>\n",
       "    <tr>\n",
       "      <th>median</th>\n",
       "      <td>5.000017e-01</td>\n",
       "      <td>4.999354e-01</td>\n",
       "      <td>5.000797e-01</td>\n",
       "      <td>5.001719e-01</td>\n",
       "      <td>4.999099e-01</td>\n",
       "      <td>5.000381e-01</td>\n",
       "      <td>5.000839e-01</td>\n",
       "      <td>4.999062e-01</td>\n",
       "      <td>5.001162e-01</td>\n",
       "    </tr>\n",
       "    <tr>\n",
       "      <th>std</th>\n",
       "      <td>2.886756e-01</td>\n",
       "      <td>2.886867e-01</td>\n",
       "      <td>2.887038e-01</td>\n",
       "      <td>2.887107e-01</td>\n",
       "      <td>2.887081e-01</td>\n",
       "      <td>2.886917e-01</td>\n",
       "      <td>2.886958e-01</td>\n",
       "      <td>2.886739e-01</td>\n",
       "      <td>2.886854e-01</td>\n",
       "    </tr>\n",
       "  </tbody>\n",
       "</table>\n",
       "</div>"
      ],
      "text/plain": [
       "               num_7         num_8         num_9        num_10        num_11   \n",
       "min     3.447814e-09  6.758090e-08  3.387718e-09  2.832512e-09  7.106527e-08  \\\n",
       "max     1.000000e+00  9.999999e-01  1.000000e+00  1.000000e+00  1.000000e+00   \n",
       "mean    4.999846e-01  4.999866e-01  5.000210e-01  5.001010e-01  4.999404e-01   \n",
       "median  5.000017e-01  4.999354e-01  5.000797e-01  5.001719e-01  4.999099e-01   \n",
       "std     2.886756e-01  2.886867e-01  2.887038e-01  2.887107e-01  2.887081e-01   \n",
       "\n",
       "              num_12        num_13        num_14        num_15  \n",
       "min     9.356119e-09  1.062366e-08  3.810326e-08  4.786359e-08  \n",
       "max     1.000000e+00  1.000000e+00  1.000000e+00  1.000000e+00  \n",
       "mean    5.000311e-01  5.000412e-01  4.999558e-01  5.000969e-01  \n",
       "median  5.000381e-01  5.000839e-01  4.999062e-01  5.001162e-01  \n",
       "std     2.886917e-01  2.886958e-01  2.886739e-01  2.886854e-01  "
      ]
     },
     "execution_count": 40,
     "metadata": {},
     "output_type": "execute_result"
    }
   ],
   "source": [
    "# pandas query\n",
    "train_pd[nums].agg(['min','max','mean','median','std'])\n"
   ]
  },
  {
   "cell_type": "code",
   "execution_count": 42,
   "id": "b2b49bd1",
   "metadata": {},
   "outputs": [
    {
     "data": {
      "text/html": [
       "<div>\n",
       "<style scoped>\n",
       "    .dataframe tbody tr th:only-of-type {\n",
       "        vertical-align: middle;\n",
       "    }\n",
       "\n",
       "    .dataframe tbody tr th {\n",
       "        vertical-align: top;\n",
       "    }\n",
       "\n",
       "    .dataframe thead th {\n",
       "        text-align: right;\n",
       "    }\n",
       "</style>\n",
       "<table border=\"1\" class=\"dataframe\">\n",
       "  <thead>\n",
       "    <tr style=\"text-align: right;\">\n",
       "      <th></th>\n",
       "      <th>cat_1</th>\n",
       "      <th>cat_2</th>\n",
       "      <th>cat_3</th>\n",
       "      <th>cat_4</th>\n",
       "      <th>cat_5</th>\n",
       "      <th>cat_6</th>\n",
       "    </tr>\n",
       "  </thead>\n",
       "  <tbody>\n",
       "    <tr>\n",
       "      <th>nunique</th>\n",
       "      <td>4</td>\n",
       "      <td>64</td>\n",
       "      <td>31</td>\n",
       "      <td>77</td>\n",
       "      <td>71</td>\n",
       "      <td>67</td>\n",
       "    </tr>\n",
       "  </tbody>\n",
       "</table>\n",
       "</div>"
      ],
      "text/plain": [
       "         cat_1  cat_2  cat_3  cat_4  cat_5  cat_6\n",
       "nunique      4     64     31     77     71     67"
      ]
     },
     "execution_count": 42,
     "metadata": {},
     "output_type": "execute_result"
    }
   ],
   "source": [
    "train_pd[cats].agg(['nunique'])"
   ]
  },
  {
   "cell_type": "code",
   "execution_count": null,
   "id": "efd003aa",
   "metadata": {},
   "outputs": [],
   "source": []
  },
  {
   "cell_type": "code",
   "execution_count": 45,
   "id": "58b72143",
   "metadata": {},
   "outputs": [
    {
     "data": {
      "text/html": [
       "col(\"num_7\")"
      ],
      "text/plain": [
       "<polars.expr.expr.Expr at 0x1273d3be0>"
      ]
     },
     "execution_count": 45,
     "metadata": {},
     "output_type": "execute_result"
    }
   ],
   "source": [
    "pl.col(nums[0])"
   ]
  },
  {
   "cell_type": "code",
   "execution_count": null,
   "id": "2580e36a",
   "metadata": {},
   "outputs": [],
   "source": []
  },
  {
   "cell_type": "code",
   "execution_count": 48,
   "id": "f950c183",
   "metadata": {},
   "outputs": [
    {
     "data": {
      "text/html": [
       "<div><style>\n",
       ".dataframe > thead > tr > th,\n",
       ".dataframe > tbody > tr > td {\n",
       "  text-align: right;\n",
       "  white-space: pre-wrap;\n",
       "}\n",
       "</style>\n",
       "<small>shape: (30_000_000, 22)</small><table border=\"1\" class=\"dataframe\"><thead><tr><th>user</th><th>cat_1</th><th>cat_2</th><th>cat_3</th><th>cat_4</th><th>cat_5</th><th>cat_6</th><th>num_7</th><th>num_8</th><th>num_9</th><th>num_10</th><th>num_11</th><th>num_12</th><th>num_13</th><th>num_14</th><th>num_15</th><th>num_7_min</th><th>num_7_max</th><th>num_7_mean</th><th>num_7_median</th><th>num_7_std</th><th>cat_1_unique</th></tr><tr><td>i64</td><td>i64</td><td>i64</td><td>i64</td><td>i64</td><td>i64</td><td>i64</td><td>f64</td><td>f64</td><td>f64</td><td>f64</td><td>f64</td><td>f64</td><td>f64</td><td>f64</td><td>f64</td><td>f64</td><td>f64</td><td>f64</td><td>f64</td><td>f64</td><td>u32</td></tr></thead><tbody><tr><td>37460</td><td>2</td><td>60</td><td>8</td><td>73</td><td>17</td><td>61</td><td>0.119154</td><td>0.79259</td><td>0.691714</td><td>0.413575</td><td>0.56896</td><td>0.724723</td><td>0.667784</td><td>0.621327</td><td>0.366504</td><td>3.4478e-9</td><td>1.0</td><td>0.499985</td><td>0.500002</td><td>0.288676</td><td>4</td></tr><tr><td>6199</td><td>1</td><td>30</td><td>14</td><td>31</td><td>65</td><td>49</td><td>0.871286</td><td>0.864431</td><td>0.406232</td><td>0.685368</td><td>0.425132</td><td>0.184816</td><td>0.30766</td><td>0.497363</td><td>0.740807</td><td>3.4478e-9</td><td>1.0</td><td>0.499985</td><td>0.500002</td><td>0.288676</td><td>4</td></tr><tr><td>67094</td><td>2</td><td>17</td><td>7</td><td>18</td><td>8</td><td>29</td><td>0.249553</td><td>0.950156</td><td>0.081369</td><td>0.563896</td><td>0.451576</td><td>0.77827</td><td>0.694566</td><td>0.807619</td><td>0.916968</td><td>3.4478e-9</td><td>1.0</td><td>0.499985</td><td>0.500002</td><td>0.288676</td><td>4</td></tr><tr><td>97776</td><td>3</td><td>60</td><td>16</td><td>28</td><td>32</td><td>43</td><td>0.545136</td><td>0.463736</td><td>0.377657</td><td>0.728032</td><td>0.537577</td><td>0.943349</td><td>0.194909</td><td>0.684796</td><td>0.422892</td><td>3.4478e-9</td><td>1.0</td><td>0.499985</td><td>0.500002</td><td>0.288676</td><td>4</td></tr><tr><td>18048</td><td>2</td><td>42</td><td>22</td><td>49</td><td>53</td><td>67</td><td>0.606616</td><td>0.757299</td><td>0.910864</td><td>0.187922</td><td>0.935874</td><td>0.810835</td><td>0.152005</td><td>0.035744</td><td>0.941222</td><td>3.4478e-9</td><td>1.0</td><td>0.499985</td><td>0.500002</td><td>0.288676</td><td>4</td></tr><tr><td>82555</td><td>4</td><td>31</td><td>12</td><td>7</td><td>36</td><td>28</td><td>0.516963</td><td>0.171398</td><td>0.67967</td><td>0.396448</td><td>0.490542</td><td>0.670266</td><td>0.416819</td><td>0.027584</td><td>0.632403</td><td>3.4478e-9</td><td>1.0</td><td>0.499985</td><td>0.500002</td><td>0.288676</td><td>4</td></tr><tr><td>5500</td><td>2</td><td>22</td><td>27</td><td>32</td><td>51</td><td>1</td><td>0.968847</td><td>0.402792</td><td>0.402879</td><td>0.128054</td><td>0.856646</td><td>0.38113</td><td>0.240961</td><td>0.475047</td><td>0.658598</td><td>3.4478e-9</td><td>1.0</td><td>0.499985</td><td>0.500002</td><td>0.288676</td><td>4</td></tr><tr><td>84103</td><td>4</td><td>41</td><td>13</td><td>29</td><td>2</td><td>61</td><td>0.034976</td><td>0.811376</td><td>0.074072</td><td>0.797366</td><td>0.41293</td><td>0.584796</td><td>0.452564</td><td>0.972065</td><td>0.717349</td><td>3.4478e-9</td><td>1.0</td><td>0.499985</td><td>0.500002</td><td>0.288676</td><td>4</td></tr><tr><td>88197</td><td>3</td><td>34</td><td>3</td><td>9</td><td>33</td><td>57</td><td>0.608963</td><td>0.194878</td><td>0.783312</td><td>0.732643</td><td>0.014411</td><td>0.021338</td><td>0.906797</td><td>0.181182</td><td>0.336104</td><td>3.4478e-9</td><td>1.0</td><td>0.499985</td><td>0.500002</td><td>0.288676</td><td>4</td></tr><tr><td>10559</td><td>3</td><td>10</td><td>1</td><td>66</td><td>36</td><td>66</td><td>0.213993</td><td>0.848068</td><td>0.270895</td><td>0.293943</td><td>0.591334</td><td>0.378692</td><td>0.148428</td><td>0.528029</td><td>0.097263</td><td>3.4478e-9</td><td>1.0</td><td>0.499985</td><td>0.500002</td><td>0.288676</td><td>4</td></tr><tr><td>16409</td><td>2</td><td>58</td><td>5</td><td>64</td><td>52</td><td>50</td><td>0.972552</td><td>0.319583</td><td>0.19954</td><td>0.49184</td><td>0.415054</td><td>0.084092</td><td>0.893067</td><td>0.444943</td><td>0.666041</td><td>3.4478e-9</td><td>1.0</td><td>0.499985</td><td>0.500002</td><td>0.288676</td><td>4</td></tr><tr><td>17169</td><td>2</td><td>5</td><td>20</td><td>14</td><td>23</td><td>25</td><td>0.238564</td><td>0.786075</td><td>0.875049</td><td>0.26831</td><td>0.531567</td><td>0.371137</td><td>0.009947</td><td>0.461553</td><td>0.187487</td><td>3.4478e-9</td><td>1.0</td><td>0.499985</td><td>0.500002</td><td>0.288676</td><td>4</td></tr><tr><td>&hellip;</td><td>&hellip;</td><td>&hellip;</td><td>&hellip;</td><td>&hellip;</td><td>&hellip;</td><td>&hellip;</td><td>&hellip;</td><td>&hellip;</td><td>&hellip;</td><td>&hellip;</td><td>&hellip;</td><td>&hellip;</td><td>&hellip;</td><td>&hellip;</td><td>&hellip;</td><td>&hellip;</td><td>&hellip;</td><td>&hellip;</td><td>&hellip;</td><td>&hellip;</td><td>&hellip;</td></tr><tr><td>8413</td><td>3</td><td>27</td><td>8</td><td>63</td><td>50</td><td>12</td><td>0.529497</td><td>0.387567</td><td>0.562392</td><td>0.444477</td><td>0.464893</td><td>0.966796</td><td>0.522167</td><td>0.235277</td><td>0.252423</td><td>3.4478e-9</td><td>1.0</td><td>0.499985</td><td>0.500002</td><td>0.288676</td><td>4</td></tr><tr><td>52941</td><td>2</td><td>55</td><td>26</td><td>46</td><td>1</td><td>15</td><td>0.218902</td><td>0.891147</td><td>0.948451</td><td>0.840504</td><td>0.307177</td><td>0.558995</td><td>0.876069</td><td>0.708084</td><td>0.245392</td><td>3.4478e-9</td><td>1.0</td><td>0.499985</td><td>0.500002</td><td>0.288676</td><td>4</td></tr><tr><td>78377</td><td>1</td><td>20</td><td>18</td><td>4</td><td>61</td><td>61</td><td>0.872109</td><td>0.72454</td><td>0.263332</td><td>0.819825</td><td>0.55695</td><td>0.337044</td><td>0.165892</td><td>0.786387</td><td>0.741348</td><td>3.4478e-9</td><td>1.0</td><td>0.499985</td><td>0.500002</td><td>0.288676</td><td>4</td></tr><tr><td>86757</td><td>4</td><td>46</td><td>2</td><td>2</td><td>1</td><td>4</td><td>0.404156</td><td>0.980445</td><td>0.48519</td><td>0.689418</td><td>0.715501</td><td>0.617998</td><td>0.248761</td><td>0.989133</td><td>0.38914</td><td>3.4478e-9</td><td>1.0</td><td>0.499985</td><td>0.500002</td><td>0.288676</td><td>4</td></tr><tr><td>30261</td><td>3</td><td>20</td><td>25</td><td>56</td><td>25</td><td>35</td><td>0.543739</td><td>0.901282</td><td>0.39877</td><td>0.521905</td><td>0.813284</td><td>0.06498</td><td>0.708663</td><td>0.157688</td><td>0.360127</td><td>3.4478e-9</td><td>1.0</td><td>0.499985</td><td>0.500002</td><td>0.288676</td><td>4</td></tr><tr><td>26334</td><td>1</td><td>22</td><td>6</td><td>50</td><td>65</td><td>24</td><td>0.270038</td><td>0.362722</td><td>0.510926</td><td>0.83632</td><td>0.273765</td><td>0.473081</td><td>0.073665</td><td>0.563552</td><td>0.881811</td><td>3.4478e-9</td><td>1.0</td><td>0.499985</td><td>0.500002</td><td>0.288676</td><td>4</td></tr><tr><td>58468</td><td>2</td><td>15</td><td>16</td><td>12</td><td>3</td><td>32</td><td>0.747953</td><td>0.155432</td><td>0.841872</td><td>0.898356</td><td>0.653143</td><td>0.259579</td><td>0.498127</td><td>0.138189</td><td>0.267417</td><td>3.4478e-9</td><td>1.0</td><td>0.499985</td><td>0.500002</td><td>0.288676</td><td>4</td></tr><tr><td>57302</td><td>4</td><td>60</td><td>26</td><td>27</td><td>33</td><td>55</td><td>0.999753</td><td>0.218614</td><td>0.510413</td><td>0.7995</td><td>0.159772</td><td>0.151259</td><td>0.324683</td><td>0.237093</td><td>0.431657</td><td>3.4478e-9</td><td>1.0</td><td>0.499985</td><td>0.500002</td><td>0.288676</td><td>4</td></tr><tr><td>65419</td><td>1</td><td>25</td><td>1</td><td>40</td><td>47</td><td>22</td><td>0.285378</td><td>0.410546</td><td>0.093222</td><td>0.764056</td><td>0.681314</td><td>0.202773</td><td>0.532485</td><td>0.929071</td><td>0.712815</td><td>3.4478e-9</td><td>1.0</td><td>0.499985</td><td>0.500002</td><td>0.288676</td><td>4</td></tr><tr><td>79935</td><td>2</td><td>7</td><td>4</td><td>37</td><td>16</td><td>26</td><td>0.50549</td><td>0.784233</td><td>0.874399</td><td>0.822255</td><td>0.033314</td><td>0.240273</td><td>0.819502</td><td>0.355075</td><td>0.489211</td><td>3.4478e-9</td><td>1.0</td><td>0.499985</td><td>0.500002</td><td>0.288676</td><td>4</td></tr><tr><td>32385</td><td>3</td><td>10</td><td>19</td><td>7</td><td>22</td><td>23</td><td>0.830755</td><td>0.544159</td><td>0.883028</td><td>0.763062</td><td>0.167371</td><td>0.533434</td><td>0.366518</td><td>0.34956</td><td>0.971802</td><td>3.4478e-9</td><td>1.0</td><td>0.499985</td><td>0.500002</td><td>0.288676</td><td>4</td></tr><tr><td>95786</td><td>4</td><td>30</td><td>3</td><td>23</td><td>11</td><td>67</td><td>0.176873</td><td>0.925277</td><td>0.398113</td><td>0.079801</td><td>0.94916</td><td>0.873922</td><td>0.092061</td><td>0.189986</td><td>0.353715</td><td>3.4478e-9</td><td>1.0</td><td>0.499985</td><td>0.500002</td><td>0.288676</td><td>4</td></tr></tbody></table></div>"
      ],
      "text/plain": [
       "shape: (30_000_000, 22)\n",
       "┌───────┬───────┬───────┬───────┬───┬────────────┬──────────────┬───────────┬──────────────┐\n",
       "│ user  ┆ cat_1 ┆ cat_2 ┆ cat_3 ┆ … ┆ num_7_mean ┆ num_7_median ┆ num_7_std ┆ cat_1_unique │\n",
       "│ ---   ┆ ---   ┆ ---   ┆ ---   ┆   ┆ ---        ┆ ---          ┆ ---       ┆ ---          │\n",
       "│ i64   ┆ i64   ┆ i64   ┆ i64   ┆   ┆ f64        ┆ f64          ┆ f64       ┆ u32          │\n",
       "╞═══════╪═══════╪═══════╪═══════╪═══╪════════════╪══════════════╪═══════════╪══════════════╡\n",
       "│ 37460 ┆ 2     ┆ 60    ┆ 8     ┆ … ┆ 0.499985   ┆ 0.500002     ┆ 0.288676  ┆ 4            │\n",
       "│ 6199  ┆ 1     ┆ 30    ┆ 14    ┆ … ┆ 0.499985   ┆ 0.500002     ┆ 0.288676  ┆ 4            │\n",
       "│ 67094 ┆ 2     ┆ 17    ┆ 7     ┆ … ┆ 0.499985   ┆ 0.500002     ┆ 0.288676  ┆ 4            │\n",
       "│ 97776 ┆ 3     ┆ 60    ┆ 16    ┆ … ┆ 0.499985   ┆ 0.500002     ┆ 0.288676  ┆ 4            │\n",
       "│ …     ┆ …     ┆ …     ┆ …     ┆ … ┆ …          ┆ …            ┆ …         ┆ …            │\n",
       "│ 65419 ┆ 1     ┆ 25    ┆ 1     ┆ … ┆ 0.499985   ┆ 0.500002     ┆ 0.288676  ┆ 4            │\n",
       "│ 79935 ┆ 2     ┆ 7     ┆ 4     ┆ … ┆ 0.499985   ┆ 0.500002     ┆ 0.288676  ┆ 4            │\n",
       "│ 32385 ┆ 3     ┆ 10    ┆ 19    ┆ … ┆ 0.499985   ┆ 0.500002     ┆ 0.288676  ┆ 4            │\n",
       "│ 95786 ┆ 4     ┆ 30    ┆ 3     ┆ … ┆ 0.499985   ┆ 0.500002     ┆ 0.288676  ┆ 4            │\n",
       "└───────┴───────┴───────┴───────┴───┴────────────┴──────────────┴───────────┴──────────────┘"
      ]
     },
     "execution_count": 48,
     "metadata": {},
     "output_type": "execute_result"
    }
   ],
   "source": [
    "# Polars query\n",
    "train_pl.with_columns([\n",
    "    pl.col(nums[0]).min().suffix('_min'),\n",
    "    pl.col(nums[0]).max().suffix('_max'),\n",
    "    pl.col(nums[0]).mean().suffix('_mean'),\n",
    "    pl.col(nums[0]).median().suffix('_median'),\n",
    "    pl.col(nums[0]).std().suffix('_std'),\n",
    "    pl.col(cats[0]).n_unique().suffix('_unique'),\n",
    "])"
   ]
  },
  {
   "cell_type": "code",
   "execution_count": null,
   "id": "23dd38a7",
   "metadata": {},
   "outputs": [],
   "source": []
  }
 ],
 "metadata": {
  "kernelspec": {
   "display_name": "Python 3 (ipykernel)",
   "language": "python",
   "name": "python3"
  },
  "language_info": {
   "codemirror_mode": {
    "name": "ipython",
    "version": 3
   },
   "file_extension": ".py",
   "mimetype": "text/x-python",
   "name": "python",
   "nbconvert_exporter": "python",
   "pygments_lexer": "ipython3",
   "version": "3.9.16"
  }
 },
 "nbformat": 4,
 "nbformat_minor": 5
}
